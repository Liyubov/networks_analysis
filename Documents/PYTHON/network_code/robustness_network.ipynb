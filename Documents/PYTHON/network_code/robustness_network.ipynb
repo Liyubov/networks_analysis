{
 "cells": [
  {
   "cell_type": "markdown",
   "metadata": {},
   "source": [
    "# Robustness of networks\n",
    "\n",
    "@Big data course 2019"
   ]
  },
  {
   "cell_type": "code",
   "execution_count": 11,
   "metadata": {},
   "outputs": [],
   "source": [
    "import matplotlib.pyplot as plt\n",
    "import networkx as nx\n",
    "import heapq\n",
    "import random\n",
    "\n",
    "\n",
    "#from Lab1.analyse_realistic_graph import do_computations, compute_centrality, plot_distribution\n",
    "\n",
    "g = nx.Graph().to_undirected()\n",
    "node_pose = {}\n",
    "drawGraphOn = True\n",
    "plotOn = True\n",
    "diametersOn = True\n",
    "plotDiametersOn = False\n",
    "\n",
    "\n",
    "def create_graph():\n",
    "    with open('bitcoin.csv') as f:\n",
    "        for row in f:\n",
    "            s = row.split(',')\n",
    "            g.add_edge(s[0], s[1], weight=int(s[2]))\n",
    "\n",
    "\n",
    "def remove_random_node(g, n):\n",
    "    import random  # This because it crashes against the import at the top which works for the plot\n",
    "    for i in range(n):\n",
    "        node = random.choice(list(g.node.keys()))\n",
    "\n",
    "        g.remove_node(node)\n",
    "    return g    \n",
    "\n",
    "\n",
    "def draw_graph(g, layout, title, namefile):\n",
    "    plt.title(title)\n",
    "    if g.number_of_nodes() < 100:\n",
    "        nx.draw_networkx(g, node_size=150, font_size=9, arrowsize=3, node_color='b', pos=layout)\n",
    "    else:\n",
    "        nx.draw_networkx(g, node_size=50, font_size=6, arrowsize=3, node_color='b', pos=layout)\n",
    "    plt.savefig('data/' + namefile + '.png', dpi=500)\n",
    "    plt.close()\n",
    "\n",
    "\n",
    "\n",
    "def main(G, n):\n",
    "    # bitcoin_robustness()\n",
    "    remove_random_node(G, n)\n",
    "    #bitcoin_robustness_random()\n",
    "\n",
    "#graph they loaded    \n",
    "G = nx.erdos_renyi_graph(100, 0.5)\n",
    "n = 10\n",
    "\n",
    "#graph after attack\n",
    "G1 = main(G, n)\n",
    "\n",
    "#if __name__ == '__main__':\n",
    "#    main(G)"
   ]
  },
  {
   "cell_type": "markdown",
   "metadata": {},
   "source": [
    "# Excersice \n",
    "Algorithm:\n",
    "1. create random network \n",
    "2. make targetted attack"
   ]
  },
  {
   "cell_type": "code",
   "execution_count": null,
   "metadata": {},
   "outputs": [],
   "source": []
  }
 ],
 "metadata": {
  "kernelspec": {
   "display_name": "Python 3",
   "language": "python",
   "name": "python3"
  },
  "language_info": {
   "codemirror_mode": {
    "name": "ipython",
    "version": 3
   },
   "file_extension": ".py",
   "mimetype": "text/x-python",
   "name": "python",
   "nbconvert_exporter": "python",
   "pygments_lexer": "ipython3",
   "version": "3.6.7"
  }
 },
 "nbformat": 4,
 "nbformat_minor": 2
}
